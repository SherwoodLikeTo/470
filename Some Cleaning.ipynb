{
 "cells": [
  {
   "cell_type": "code",
   "execution_count": 1,
   "id": "14c42e26",
   "metadata": {},
   "outputs": [],
   "source": [
    "import pandas as pd\n",
    "import numpy as np\n",
    "\n",
    "from sklearn import preprocessing"
   ]
  },
  {
   "cell_type": "code",
   "execution_count": 1,
   "id": "6dedaf6f",
   "metadata": {},
   "outputs": [
    {
     "name": "stderr",
     "output_type": "stream",
     "text": [
      "C:\\Users\\dansh\\AppData\\Local\\Temp\\ipykernel_23192\\2729122126.py:4: DtypeWarning: Columns (21) have mixed types. Specify dtype option on import or set low_memory=False.\n",
      "  df = pd.read_csv('_ALL_FLIGHTS_30m.csv')\n"
     ]
    }
   ],
   "source": [
    "import pandas as pd\n",
    "\n",
    "#df = pd.read_csv('flights_sample_3m.csv')\n",
    "df = pd.read_csv('_ALL_FLIGHTS_30m.csv')\n",
    "\n",
    "#Dropping columns\n",
    "delcols = ['DEP_DELAY', 'TAXI_OUT', 'WHEELS_OFF', 'WHEELS_ON', 'TAXI_IN', 'CRS_ARR_TIME', 'ARR_DELAY', \n",
    "                     'CANCELLATION_CODE', 'DIVERTED', 'CRS_ELAPSED_TIME', 'AIR_TIME', 'DELAY_DUE_CARRIER',\n",
    "                     'DEP_TIME', 'DELAY_DUE_NAS', 'DELAY_DUE_SECURITY', 'DELAY_DUE_LATE_AIRCRAFT']  \n",
    "df = df.drop(columns=delcols)"
   ]
  },
  {
   "cell_type": "code",
   "execution_count": 2,
   "id": "02baeed8",
   "metadata": {},
   "outputs": [],
   "source": [
    "df['FL_DATE'] = pd.to_datetime(df['FL_DATE'], infer_datetime_format=True)\n",
    "\n",
    "df = df[df['FL_DATE'] >= '2023-01-01']"
   ]
  },
  {
   "cell_type": "code",
   "execution_count": 3,
   "id": "43de71b5",
   "metadata": {},
   "outputs": [
    {
     "data": {
      "text/html": [
       "<div>\n",
       "<style scoped>\n",
       "    .dataframe tbody tr th:only-of-type {\n",
       "        vertical-align: middle;\n",
       "    }\n",
       "\n",
       "    .dataframe tbody tr th {\n",
       "        vertical-align: top;\n",
       "    }\n",
       "\n",
       "    .dataframe thead th {\n",
       "        text-align: right;\n",
       "    }\n",
       "</style>\n",
       "<table border=\"1\" class=\"dataframe\">\n",
       "  <thead>\n",
       "    <tr style=\"text-align: right;\">\n",
       "      <th></th>\n",
       "      <th>FL_DATE</th>\n",
       "      <th>AIRLINE</th>\n",
       "      <th>AIRLINE_DOT</th>\n",
       "      <th>AIRLINE_CODE</th>\n",
       "      <th>DOT_CODE</th>\n",
       "      <th>FL_NUMBER</th>\n",
       "      <th>ORIGIN</th>\n",
       "      <th>ORIGIN_CITY</th>\n",
       "      <th>DEST</th>\n",
       "      <th>DEST_CITY</th>\n",
       "      <th>CRS_DEP_TIME</th>\n",
       "      <th>ARR_TIME</th>\n",
       "      <th>CANCELLED</th>\n",
       "      <th>ELAPSED_TIME</th>\n",
       "      <th>DISTANCE</th>\n",
       "      <th>DELAY_DUE_WEATHER</th>\n",
       "    </tr>\n",
       "  </thead>\n",
       "  <tbody>\n",
       "    <tr>\n",
       "      <th>24834913</th>\n",
       "      <td>2023-06-04</td>\n",
       "      <td>Endeavor Air Inc.</td>\n",
       "      <td>Endeavor Air Inc.: 9E</td>\n",
       "      <td>9E</td>\n",
       "      <td>20363</td>\n",
       "      <td>4628</td>\n",
       "      <td>DSM</td>\n",
       "      <td>Des Moines, IA</td>\n",
       "      <td>LGA</td>\n",
       "      <td>New York, NY</td>\n",
       "      <td>1033</td>\n",
       "      <td>1439.0</td>\n",
       "      <td>0.0</td>\n",
       "      <td>166.0</td>\n",
       "      <td>1031.0</td>\n",
       "      <td>0.0</td>\n",
       "    </tr>\n",
       "    <tr>\n",
       "      <th>24834914</th>\n",
       "      <td>2023-06-01</td>\n",
       "      <td>Endeavor Air Inc.</td>\n",
       "      <td>Endeavor Air Inc.: 9E</td>\n",
       "      <td>9E</td>\n",
       "      <td>20363</td>\n",
       "      <td>4628</td>\n",
       "      <td>ROC</td>\n",
       "      <td>Rochester, NY</td>\n",
       "      <td>LGA</td>\n",
       "      <td>New York, NY</td>\n",
       "      <td>1001</td>\n",
       "      <td>1116.0</td>\n",
       "      <td>0.0</td>\n",
       "      <td>80.0</td>\n",
       "      <td>254.0</td>\n",
       "      <td>NaN</td>\n",
       "    </tr>\n",
       "    <tr>\n",
       "      <th>24834915</th>\n",
       "      <td>2023-06-02</td>\n",
       "      <td>Endeavor Air Inc.</td>\n",
       "      <td>Endeavor Air Inc.: 9E</td>\n",
       "      <td>9E</td>\n",
       "      <td>20363</td>\n",
       "      <td>4628</td>\n",
       "      <td>ROC</td>\n",
       "      <td>Rochester, NY</td>\n",
       "      <td>LGA</td>\n",
       "      <td>New York, NY</td>\n",
       "      <td>1001</td>\n",
       "      <td>1102.0</td>\n",
       "      <td>0.0</td>\n",
       "      <td>66.0</td>\n",
       "      <td>254.0</td>\n",
       "      <td>NaN</td>\n",
       "    </tr>\n",
       "    <tr>\n",
       "      <th>24834916</th>\n",
       "      <td>2023-06-01</td>\n",
       "      <td>Endeavor Air Inc.</td>\n",
       "      <td>Endeavor Air Inc.: 9E</td>\n",
       "      <td>9E</td>\n",
       "      <td>20363</td>\n",
       "      <td>4629</td>\n",
       "      <td>ITH</td>\n",
       "      <td>Ithaca/Cortland, NY</td>\n",
       "      <td>JFK</td>\n",
       "      <td>New York, NY</td>\n",
       "      <td>1452</td>\n",
       "      <td>1556.0</td>\n",
       "      <td>0.0</td>\n",
       "      <td>69.0</td>\n",
       "      <td>189.0</td>\n",
       "      <td>NaN</td>\n",
       "    </tr>\n",
       "    <tr>\n",
       "      <th>24834917</th>\n",
       "      <td>2023-06-02</td>\n",
       "      <td>Endeavor Air Inc.</td>\n",
       "      <td>Endeavor Air Inc.: 9E</td>\n",
       "      <td>9E</td>\n",
       "      <td>20363</td>\n",
       "      <td>4629</td>\n",
       "      <td>ITH</td>\n",
       "      <td>Ithaca/Cortland, NY</td>\n",
       "      <td>JFK</td>\n",
       "      <td>New York, NY</td>\n",
       "      <td>1452</td>\n",
       "      <td>1554.0</td>\n",
       "      <td>0.0</td>\n",
       "      <td>66.0</td>\n",
       "      <td>189.0</td>\n",
       "      <td>NaN</td>\n",
       "    </tr>\n",
       "  </tbody>\n",
       "</table>\n",
       "</div>"
      ],
      "text/plain": [
       "            FL_DATE            AIRLINE            AIRLINE_DOT AIRLINE_CODE  \\\n",
       "24834913 2023-06-04  Endeavor Air Inc.  Endeavor Air Inc.: 9E           9E   \n",
       "24834914 2023-06-01  Endeavor Air Inc.  Endeavor Air Inc.: 9E           9E   \n",
       "24834915 2023-06-02  Endeavor Air Inc.  Endeavor Air Inc.: 9E           9E   \n",
       "24834916 2023-06-01  Endeavor Air Inc.  Endeavor Air Inc.: 9E           9E   \n",
       "24834917 2023-06-02  Endeavor Air Inc.  Endeavor Air Inc.: 9E           9E   \n",
       "\n",
       "          DOT_CODE  FL_NUMBER ORIGIN          ORIGIN_CITY DEST     DEST_CITY  \\\n",
       "24834913     20363       4628    DSM       Des Moines, IA  LGA  New York, NY   \n",
       "24834914     20363       4628    ROC        Rochester, NY  LGA  New York, NY   \n",
       "24834915     20363       4628    ROC        Rochester, NY  LGA  New York, NY   \n",
       "24834916     20363       4629    ITH  Ithaca/Cortland, NY  JFK  New York, NY   \n",
       "24834917     20363       4629    ITH  Ithaca/Cortland, NY  JFK  New York, NY   \n",
       "\n",
       "          CRS_DEP_TIME  ARR_TIME  CANCELLED  ELAPSED_TIME  DISTANCE  \\\n",
       "24834913          1033    1439.0        0.0         166.0    1031.0   \n",
       "24834914          1001    1116.0        0.0          80.0     254.0   \n",
       "24834915          1001    1102.0        0.0          66.0     254.0   \n",
       "24834916          1452    1556.0        0.0          69.0     189.0   \n",
       "24834917          1452    1554.0        0.0          66.0     189.0   \n",
       "\n",
       "          DELAY_DUE_WEATHER  \n",
       "24834913                0.0  \n",
       "24834914                NaN  \n",
       "24834915                NaN  \n",
       "24834916                NaN  \n",
       "24834917                NaN  "
      ]
     },
     "execution_count": 3,
     "metadata": {},
     "output_type": "execute_result"
    }
   ],
   "source": [
    "df.head()"
   ]
  },
  {
   "cell_type": "code",
   "execution_count": 4,
   "id": "4176cb63",
   "metadata": {},
   "outputs": [],
   "source": [
    "#df.to_csv(\"flights_clean.csv\", index=False)\n",
    "df.to_csv(\"all_flights_clean.csv\", index=False)"
   ]
  },
  {
   "cell_type": "code",
   "execution_count": 19,
   "id": "4116c376",
   "metadata": {},
   "outputs": [
    {
     "name": "stdout",
     "output_type": "stream",
     "text": [
      "Number of cells with value 1 in 'your_column': 7809\n"
     ]
    }
   ],
   "source": [
    "df2 = pd.read_csv('flights_clean_Copy.csv')\n",
    "\n",
    "count_ones = df2['CANCELLED'].value_counts().get(1, 0)\n",
    "\n",
    "print(f\"Number of cells with value 1 in 'your_column': {count_ones}\")"
   ]
  },
  {
   "cell_type": "code",
   "execution_count": 9,
   "id": "1380a084",
   "metadata": {},
   "outputs": [
    {
     "name": "stdout",
     "output_type": "stream",
     "text": [
      "            FL_DATE            AIRLINE            AIRLINE_DOT AIRLINE_CODE  \\\n",
      "24835014 2023-06-02  Endeavor Air Inc.  Endeavor Air Inc.: 9E           9E   \n",
      "24835016 2023-06-02  Endeavor Air Inc.  Endeavor Air Inc.: 9E           9E   \n",
      "24835023 2023-06-02  Endeavor Air Inc.  Endeavor Air Inc.: 9E           9E   \n",
      "24835036 2023-06-02  Endeavor Air Inc.  Endeavor Air Inc.: 9E           9E   \n",
      "24835042 2023-06-02  Endeavor Air Inc.  Endeavor Air Inc.: 9E           9E   \n",
      "...             ...                ...                    ...          ...   \n",
      "29379614 2023-08-04   Republic Airline   Republic Airline: YX           YX   \n",
      "29379623 2023-08-04   Republic Airline   Republic Airline: YX           YX   \n",
      "29379626 2023-08-04   Republic Airline   Republic Airline: YX           YX   \n",
      "29379639 2023-08-04   Republic Airline   Republic Airline: YX           YX   \n",
      "29379648 2023-08-04   Republic Airline   Republic Airline: YX           YX   \n",
      "\n",
      "          DOT_CODE  FL_NUMBER ORIGIN         ORIGIN_CITY DEST       DEST_CITY  \\\n",
      "24835014     20363       4654    LGA        New York, NY  MKE   Milwaukee, WI   \n",
      "24835016     20363       4655    JFK        New York, NY  RIC    Richmond, VA   \n",
      "24835023     20363       4656    MCI     Kansas City, MO  LGA    New York, NY   \n",
      "24835036     20363       4661    RDU  Raleigh/Durham, NC  LGA    New York, NY   \n",
      "24835042     20363       4663    BHM      Birmingham, AL  LGA    New York, NY   \n",
      "...            ...        ...    ...                 ...  ...             ...   \n",
      "29379614     20452       3447    EWR          Newark, NJ  MHT  Manchester, NH   \n",
      "29379623     20452       3438    EWR          Newark, NJ  MDT  Harrisburg, PA   \n",
      "29379626     20452       3432    BUF         Buffalo, NY  EWR      Newark, NJ   \n",
      "29379639     20452       3417    BGR          Bangor, ME  EWR      Newark, NJ   \n",
      "29379648     20452       3406    EWR          Newark, NJ  AVL   Asheville, NC   \n",
      "\n",
      "          CRS_DEP_TIME  ARR_TIME  CANCELLED  ELAPSED_TIME  DISTANCE  \\\n",
      "24835014          1934       NaN        1.0           NaN     738.0   \n",
      "24835016          2125       NaN        1.0           NaN     288.0   \n",
      "24835023          1408       NaN        1.0           NaN    1107.0   \n",
      "24835036          1915       NaN        1.0           NaN     431.0   \n",
      "24835042          1700       NaN        1.0           NaN     866.0   \n",
      "...                ...       ...        ...           ...       ...   \n",
      "29379614          2159       NaN        1.0           NaN     209.0   \n",
      "29379623          2119       NaN        1.0           NaN     141.0   \n",
      "29379626          1727       NaN        1.0           NaN     282.0   \n",
      "29379639          1903       NaN        1.0           NaN     393.0   \n",
      "29379648          2000       NaN        1.0           NaN     583.0   \n",
      "\n",
      "          DELAY_DUE_WEATHER  \n",
      "24835014                NaN  \n",
      "24835016                NaN  \n",
      "24835023                NaN  \n",
      "24835036                NaN  \n",
      "24835042                NaN  \n",
      "...                     ...  \n",
      "29379614                NaN  \n",
      "29379623                NaN  \n",
      "29379626                NaN  \n",
      "29379639                NaN  \n",
      "29379648                NaN  \n",
      "\n",
      "[75616 rows x 16 columns]\n"
     ]
    }
   ],
   "source": [
    "df_filtered = df[df['CANCELLED'] == 1]\n",
    "\n",
    "print(df_filtered)"
   ]
  },
  {
   "cell_type": "code",
   "execution_count": 11,
   "id": "9ca30d02",
   "metadata": {},
   "outputs": [],
   "source": [
    "df_filtered.to_csv(\"all_flights_clean_cancelled.csv\", index=False)"
   ]
  },
  {
   "cell_type": "code",
   "execution_count": 25,
   "id": "12c8dfd4",
   "metadata": {},
   "outputs": [
    {
     "name": "stdout",
     "output_type": "stream",
     "text": [
      "           FL_DATE                 AIRLINE                 AIRLINE_DOT  \\\n",
      "139     2023-07-27        Republic Airline        Republic Airline: YX   \n",
      "173     2023-08-07   United Air Lines Inc.   United Air Lines Inc.: UA   \n",
      "177     2023-03-16   SkyWest Airlines Inc.   SkyWest Airlines Inc.: OO   \n",
      "198     2023-06-12  American Airlines Inc.  American Airlines Inc.: AA   \n",
      "299     2023-07-09        Republic Airline        Republic Airline: YX   \n",
      "...            ...                     ...                         ...   \n",
      "463263  2023-04-03         JetBlue Airways         JetBlue Airways: B6   \n",
      "463293  2023-07-27       Endeavor Air Inc.       Endeavor Air Inc.: 9E   \n",
      "463316  2023-07-31        Spirit Air Lines        Spirit Air Lines: NK   \n",
      "463389  2023-04-10    Delta Air Lines Inc.    Delta Air Lines Inc.: DL   \n",
      "463476  2023-07-09        Republic Airline        Republic Airline: YX   \n",
      "\n",
      "       AIRLINE_CODE  DOT_CODE  FL_NUMBER ORIGIN         ORIGIN_CITY DEST  \\\n",
      "139              YX     20452       3526    MYR    Myrtle Beach, SC  EWR   \n",
      "173              UA     19977       1741    STL       St. Louis, MO  EWR   \n",
      "177              OO     20304       3159    ACT            Waco, TX  DFW   \n",
      "198              AA     19805       1813    PHL    Philadelphia, PA  CLE   \n",
      "299              YX     20452       3609    PIT      Pittsburgh, PA  EWR   \n",
      "...             ...       ...        ...    ...                 ...  ...   \n",
      "463263           B6     20409       2520    MSY     New Orleans, LA  LGA   \n",
      "463293           9E     20363       4969    RDU  Raleigh/Durham, NC  LGA   \n",
      "463316           NK     20416        753    PHL    Philadelphia, PA  MCO   \n",
      "463389           DL     19790       2254    GNV     Gainesville, FL  ATL   \n",
      "463476           YX     20452       4296    BOS          Boston, MA  JFK   \n",
      "\n",
      "                    DEST_CITY  CRS_DEP_TIME  ARR_TIME  CANCELLED  \\\n",
      "139                Newark, NJ          1850       NaN        1.0   \n",
      "173                Newark, NJ          1733       NaN        1.0   \n",
      "177     Dallas/Fort Worth, TX          1855       NaN        1.0   \n",
      "198             Cleveland, OH          1910       NaN        1.0   \n",
      "299                Newark, NJ          1850       NaN        1.0   \n",
      "...                       ...           ...       ...        ...   \n",
      "463263           New York, NY          1130       NaN        1.0   \n",
      "463293           New York, NY          1755       NaN        1.0   \n",
      "463316            Orlando, FL          1932       NaN        1.0   \n",
      "463389            Atlanta, GA           600       NaN        1.0   \n",
      "463476           New York, NY          1734       NaN        1.0   \n",
      "\n",
      "        ELAPSED_TIME  DISTANCE  DELAY_DUE_WEATHER  \n",
      "139              NaN     550.0                NaN  \n",
      "173              NaN     872.0                NaN  \n",
      "177              NaN      89.0                NaN  \n",
      "198              NaN     363.0                NaN  \n",
      "299              NaN     319.0                NaN  \n",
      "...              ...       ...                ...  \n",
      "463263           NaN    1183.0                NaN  \n",
      "463293           NaN     431.0                NaN  \n",
      "463316           NaN     861.0                NaN  \n",
      "463389           NaN     300.0                NaN  \n",
      "463476           NaN     187.0                NaN  \n",
      "\n",
      "[7809 rows x 16 columns]\n"
     ]
    }
   ],
   "source": [
    "df3 = pd.read_csv('flights_clean_Copy.csv')\n",
    "\n",
    "df3_filtered = df3[df3['CANCELLED'] == 1]\n",
    "\n",
    "print(df3_filtered)"
   ]
  },
  {
   "cell_type": "code",
   "execution_count": 26,
   "id": "9df6d90b",
   "metadata": {},
   "outputs": [],
   "source": [
    "df3_filtered.to_csv(\"FLIGHTS_TO_ERASE.csv\", index=False)"
   ]
  },
  {
   "cell_type": "code",
   "execution_count": 30,
   "id": "15f26459",
   "metadata": {},
   "outputs": [
    {
     "name": "stdout",
     "output_type": "stream",
     "text": [
      "                         Column Name       Data Type\n",
      "FL_DATE                      FL_DATE  datetime64[ns]\n",
      "AIRLINE                      AIRLINE          object\n",
      "AIRLINE_DOT              AIRLINE_DOT          object\n",
      "AIRLINE_CODE            AIRLINE_CODE          object\n",
      "DOT_CODE                    DOT_CODE           int64\n",
      "FL_NUMBER                  FL_NUMBER           int64\n",
      "ORIGIN                        ORIGIN          object\n",
      "ORIGIN_CITY              ORIGIN_CITY          object\n",
      "DEST                            DEST          object\n",
      "DEST_CITY                  DEST_CITY          object\n",
      "CRS_DEP_TIME            CRS_DEP_TIME           int64\n",
      "ARR_TIME                    ARR_TIME         float64\n",
      "CANCELLED                  CANCELLED         float64\n",
      "ELAPSED_TIME            ELAPSED_TIME         float64\n",
      "DISTANCE                    DISTANCE         float64\n",
      "DELAY_DUE_WEATHER  DELAY_DUE_WEATHER         float64\n"
     ]
    }
   ],
   "source": [
    "df_erase['FL_DATE'] = pd.to_datetime(df_erase['FL_DATE'], infer_datetime_format=True)\n",
    "\n",
    "column_info = pd.DataFrame({\n",
    "    'Column Name': df_erase.columns,\n",
    "    'Data Type': df_erase.dtypes\n",
    "})\n",
    "\n",
    "print(column_info)"
   ]
  },
  {
   "cell_type": "code",
   "execution_count": 29,
   "id": "f2cb9f76",
   "metadata": {},
   "outputs": [
    {
     "name": "stdout",
     "output_type": "stream",
     "text": [
      "                         Column Name       Data Type\n",
      "FL_DATE                      FL_DATE  datetime64[ns]\n",
      "AIRLINE                      AIRLINE          object\n",
      "AIRLINE_DOT              AIRLINE_DOT          object\n",
      "AIRLINE_CODE            AIRLINE_CODE          object\n",
      "DOT_CODE                    DOT_CODE           int64\n",
      "FL_NUMBER                  FL_NUMBER           int64\n",
      "ORIGIN                        ORIGIN          object\n",
      "ORIGIN_CITY              ORIGIN_CITY          object\n",
      "DEST                            DEST          object\n",
      "DEST_CITY                  DEST_CITY          object\n",
      "CRS_DEP_TIME            CRS_DEP_TIME           int64\n",
      "ARR_TIME                    ARR_TIME         float64\n",
      "CANCELLED                  CANCELLED         float64\n",
      "ELAPSED_TIME            ELAPSED_TIME         float64\n",
      "DISTANCE                    DISTANCE         float64\n",
      "DELAY_DUE_WEATHER  DELAY_DUE_WEATHER         float64\n"
     ]
    }
   ],
   "source": [
    "column_info = pd.DataFrame({\n",
    "    'Column Name': df_filtered.columns,\n",
    "    'Data Type': df_filtered.dtypes\n",
    "})\n",
    "\n",
    "print(column_info)"
   ]
  },
  {
   "cell_type": "code",
   "execution_count": 32,
   "id": "14568863",
   "metadata": {},
   "outputs": [
    {
     "name": "stdout",
     "output_type": "stream",
     "text": [
      "Number of rows deleted: 26410\n",
      "       FL_DATE_x            AIRLINE          AIRLINE_DOT_x AIRLINE_CODE_x  \\\n",
      "1     2023-06-02  Endeavor Air Inc.  Endeavor Air Inc.: 9E             9E   \n",
      "2     2023-06-02  Endeavor Air Inc.  Endeavor Air Inc.: 9E             9E   \n",
      "3     2023-06-02  Endeavor Air Inc.  Endeavor Air Inc.: 9E             9E   \n",
      "4     2023-06-02  Endeavor Air Inc.  Endeavor Air Inc.: 9E             9E   \n",
      "5     2023-06-02  Endeavor Air Inc.  Endeavor Air Inc.: 9E             9E   \n",
      "...          ...                ...                    ...            ...   \n",
      "85074 2023-08-04   Republic Airline   Republic Airline: YX             YX   \n",
      "85075 2023-08-04   Republic Airline   Republic Airline: YX             YX   \n",
      "85081 2023-08-04   Republic Airline   Republic Airline: YX             YX   \n",
      "85087 2023-08-04   Republic Airline   Republic Airline: YX             YX   \n",
      "85088 2023-08-04   Republic Airline   Republic Airline: YX             YX   \n",
      "\n",
      "       DOT_CODE  FL_NUMBER ORIGIN_x       ORIGIN_CITY_x DEST_x  \\\n",
      "1         20363       4655      JFK        New York, NY    RIC   \n",
      "2         20363       4656      MCI     Kansas City, MO    LGA   \n",
      "3         20363       4661      RDU  Raleigh/Durham, NC    LGA   \n",
      "4         20363       4663      BHM      Birmingham, AL    LGA   \n",
      "5         20363       4671      JFK        New York, NY    CHS   \n",
      "...         ...        ...      ...                 ...    ...   \n",
      "85074     20452       3554      DTW         Detroit, MI    EWR   \n",
      "85075     20452       3512      EWR          Newark, NJ    GSO   \n",
      "85081     20452       3447      EWR          Newark, NJ    MHT   \n",
      "85087     20452       3417      BGR          Bangor, ME    EWR   \n",
      "85088     20452       3406      EWR          Newark, NJ    AVL   \n",
      "\n",
      "                       DEST_CITY  ...  AIRLINE_CODE_y  ORIGIN_y  \\\n",
      "1                   Richmond, VA  ...             NaN       NaN   \n",
      "2                   New York, NY  ...             NaN       NaN   \n",
      "3                   New York, NY  ...             NaN       NaN   \n",
      "4                   New York, NY  ...             NaN       NaN   \n",
      "5                 Charleston, SC  ...             NaN       NaN   \n",
      "...                          ...  ...             ...       ...   \n",
      "85074                 Newark, NJ  ...             NaN       NaN   \n",
      "85075  Greensboro/High Point, NC  ...             NaN       NaN   \n",
      "85081             Manchester, NH  ...             NaN       NaN   \n",
      "85087                 Newark, NJ  ...             NaN       NaN   \n",
      "85088              Asheville, NC  ...             NaN       NaN   \n",
      "\n",
      "       ORIGIN_CITY_y  DEST_y  CRS_DEP_TIME_y  ARR_TIME_y CANCELLED_y  \\\n",
      "1                NaN     NaN             NaN         NaN         NaN   \n",
      "2                NaN     NaN             NaN         NaN         NaN   \n",
      "3                NaN     NaN             NaN         NaN         NaN   \n",
      "4                NaN     NaN             NaN         NaN         NaN   \n",
      "5                NaN     NaN             NaN         NaN         NaN   \n",
      "...              ...     ...             ...         ...         ...   \n",
      "85074            NaN     NaN             NaN         NaN         NaN   \n",
      "85075            NaN     NaN             NaN         NaN         NaN   \n",
      "85081            NaN     NaN             NaN         NaN         NaN   \n",
      "85087            NaN     NaN             NaN         NaN         NaN   \n",
      "85088            NaN     NaN             NaN         NaN         NaN   \n",
      "\n",
      "      ELAPSED_TIME_y DISTANCE_y DELAY_DUE_WEATHER_y  \n",
      "1                NaN        NaN                 NaN  \n",
      "2                NaN        NaN                 NaN  \n",
      "3                NaN        NaN                 NaN  \n",
      "4                NaN        NaN                 NaN  \n",
      "5                NaN        NaN                 NaN  \n",
      "...              ...        ...                 ...  \n",
      "85074            NaN        NaN                 NaN  \n",
      "85075            NaN        NaN                 NaN  \n",
      "85081            NaN        NaN                 NaN  \n",
      "85087            NaN        NaN                 NaN  \n",
      "85088            NaN        NaN                 NaN  \n",
      "\n",
      "[49206 rows x 28 columns]\n"
     ]
    }
   ],
   "source": [
    "#manually dropped uneeded columns\n",
    "\n",
    "df_erase = pd.read_csv('FLIGHTS_TO_ERASE.csv')\n",
    "\n",
    "merged_df = pd.merge(df_filtered, df_erase, on=['AIRLINE','DOT_CODE'\n",
    "                                                ,'FL_NUMBER','DEST_CITY'], how='left', indicator=True)\n",
    "\n",
    "df_filtered_no_erase = merged_df[merged_df['_merge'] == 'left_only'].drop('_merge', axis=1)\n",
    "\n",
    "rows_deleted = len(df_filtered) - len(df_filtered_no_erase)\n",
    "\n",
    "# Display the resulting DataFrame without the matching rows and the count\n",
    "print(f\"Number of rows deleted: {rows_deleted}\")\n",
    "print(df_filtered_no_erase)"
   ]
  },
  {
   "cell_type": "code",
   "execution_count": 33,
   "id": "26592f54",
   "metadata": {},
   "outputs": [
    {
     "name": "stdout",
     "output_type": "stream",
     "text": [
      "Duplicate Rows:\n",
      "Empty DataFrame\n",
      "Columns: [FL_DATE_x, AIRLINE, AIRLINE_DOT_x, AIRLINE_CODE_x, DOT_CODE, FL_NUMBER, ORIGIN_x, ORIGIN_CITY_x, DEST_x, DEST_CITY, CRS_DEP_TIME_x, ARR_TIME_x, CANCELLED_x, ELAPSED_TIME_x, DISTANCE_x, DELAY_DUE_WEATHER_x, FL_DATE_y, AIRLINE_DOT_y, AIRLINE_CODE_y, ORIGIN_y, ORIGIN_CITY_y, DEST_y, CRS_DEP_TIME_y, ARR_TIME_y, CANCELLED_y, ELAPSED_TIME_y, DISTANCE_y, DELAY_DUE_WEATHER_y]\n",
      "Index: []\n",
      "\n",
      "[0 rows x 28 columns]\n",
      "\n",
      "Number of Duplicate Rows: 0\n"
     ]
    }
   ],
   "source": [
    "import pandas as pd\n",
    "\n",
    "# Assuming you have a DataFrame named df_filtered_no_erase\n",
    "# Check for duplicate rows\n",
    "duplicate_rows = df_filtered_no_erase[df_filtered_no_erase.duplicated()]\n",
    "\n",
    "# Display the duplicate rows\n",
    "print(\"Duplicate Rows:\")\n",
    "print(duplicate_rows)\n",
    "\n",
    "# Count the number of duplicate rows\n",
    "num_duplicate_rows = len(duplicate_rows)\n",
    "print(f\"\\nNumber of Duplicate Rows: {num_duplicate_rows}\")\n"
   ]
  },
  {
   "cell_type": "code",
   "execution_count": 34,
   "id": "2fdf9a81",
   "metadata": {},
   "outputs": [],
   "source": [
    "df_filtered_no_erase.to_csv(\"USE_THESE.csv\", index=False)"
   ]
  },
  {
   "cell_type": "code",
   "execution_count": 37,
   "id": "27513c33",
   "metadata": {},
   "outputs": [
    {
     "name": "stdout",
     "output_type": "stream",
     "text": [
      "There are no matching rows between df_filtered_no_erase and df_erase.\n"
     ]
    }
   ],
   "source": [
    "import pandas as pd\n",
    "\n",
    "# Assuming you have DataFrames named df_filtered_no_erase and df_erase\n",
    "# and both have the same structure with at least one common column\n",
    "\n",
    "# Merge df_filtered_no_erase and df_erase on the common column(s)\n",
    "merged_check = pd.merge(df_filtered_no_erase, df_erase, on=['AIRLINE','DOT_CODE'\n",
    "                                                ,'FL_NUMBER','DEST_CITY'], how='inner')\n",
    "\n",
    "if not merged_check.empty:\n",
    "    print(\"There are matching rows between df_filtered_no_erase and df_erase.\")\n",
    "    print(\"Matching Rows:\")\n",
    "    print(merged_check)\n",
    "else:\n",
    "    print(\"There are no matching rows between df_filtered_no_erase and df_erase.\")"
   ]
  },
  {
   "cell_type": "code",
   "execution_count": 2,
   "id": "3d9f06b2",
   "metadata": {},
   "outputs": [
    {
     "name": "stdout",
     "output_type": "stream",
     "text": [
      "Number of cells with value 1 in 'your_column': 48214\n"
     ]
    }
   ],
   "source": [
    "df6 = pd.read_csv('merged_data.csv')\n",
    "\n",
    "count_ones = df6['CANCELLED'].value_counts().get(1, 0)\n",
    "\n",
    "print(f\"Number of cells with value 1 in 'your_column': {count_ones}\")"
   ]
  },
  {
   "cell_type": "code",
   "execution_count": null,
   "id": "ba13f4d3",
   "metadata": {},
   "outputs": [],
   "source": []
  }
 ],
 "metadata": {
  "kernelspec": {
   "display_name": "Python 3 (ipykernel)",
   "language": "python",
   "name": "python3"
  },
  "language_info": {
   "codemirror_mode": {
    "name": "ipython",
    "version": 3
   },
   "file_extension": ".py",
   "mimetype": "text/x-python",
   "name": "python",
   "nbconvert_exporter": "python",
   "pygments_lexer": "ipython3",
   "version": "3.10.9"
  }
 },
 "nbformat": 4,
 "nbformat_minor": 5
}
