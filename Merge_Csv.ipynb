{
 "cells": [
  {
   "cell_type": "code",
   "execution_count": 1,
   "id": "682a1086",
   "metadata": {},
   "outputs": [],
   "source": [
    "import pandas as pd\n",
    "\n",
    "\n",
    "file_names = [\"data\" + str(i) + \".csv\" for i in range(1, 65)]\n",
    "\n",
    "dataframes = [pd.read_csv(file) for file in file_names]\n",
    "\n",
    "merged_data = pd.concat(dataframes, ignore_index=True)\n",
    "\n",
    "merged_data.to_csv(\"merged_data.csv\", index=False)"
   ]
  },
  {
   "cell_type": "code",
   "execution_count": 2,
   "id": "efb1d07b",
   "metadata": {},
   "outputs": [],
   "source": [
    "import pandas as pd\n",
    "import numpy as np\n",
    "import requests\n",
    "import openmeteopy\n",
    "from sklearn import preprocessing\n",
    "\n",
    "df = pd.read_csv('merged_data.csv')"
   ]
  },
  {
   "cell_type": "code",
   "execution_count": 2,
   "id": "4c6543de",
   "metadata": {},
   "outputs": [],
   "source": [
    "import pandas as pd\n",
    "\n",
    "# Assuming 'column1', 'column2', 'column3' are the columns with float values\n",
    "columns_to_convert = ['temperature_2m', 'relative_humidity_2m',\n",
    "                          'dew_point_2m', 'apparent_temperature', 'rain', 'snowfall',\n",
    "                          'pressure_msl', 'surface_pressure', 'vapour_pressure_deficit',\n",
    "                          'wind_speed_10m', 'wind_speed_100m', 'wind_direction_10m',\n",
    "                          'wind_direction_100m', 'wind_gusts_10m']\n",
    "\n",
    "# Use pd.to_numeric() to convert selected columns to float\n",
    "df[columns_to_convert] = df[columns_to_convert].apply(pd.to_numeric, errors='coerce', downcast='float')"
   ]
  },
  {
   "cell_type": "code",
   "execution_count": 3,
   "id": "df4a8faa",
   "metadata": {},
   "outputs": [
    {
     "name": "stdout",
     "output_type": "stream",
     "text": [
      "                                     Column Name Data Type\n",
      "FL_DATE                                  FL_DATE    object\n",
      "AIRLINE                                  AIRLINE    object\n",
      "AIRLINE_DOT                          AIRLINE_DOT    object\n",
      "AIRLINE_CODE                        AIRLINE_CODE    object\n",
      "DOT_CODE                                DOT_CODE     int64\n",
      "FL_NUMBER                              FL_NUMBER     int64\n",
      "ORIGIN                                    ORIGIN    object\n",
      "ORIGIN_CITY                          ORIGIN_CITY    object\n",
      "DEST                                        DEST    object\n",
      "DEST_CITY                              DEST_CITY    object\n",
      "CRS_DEP_TIME                        CRS_DEP_TIME     int64\n",
      "ARR_TIME                                ARR_TIME   float64\n",
      "CANCELLED                              CANCELLED   float64\n",
      "ELAPSED_TIME                        ELAPSED_TIME   float64\n",
      "DISTANCE                                DISTANCE   float64\n",
      "DELAY_DUE_WEATHER              DELAY_DUE_WEATHER   float64\n",
      "temperature_2m                    temperature_2m   float32\n",
      "relative_humidity_2m        relative_humidity_2m   float32\n",
      "dew_point_2m                        dew_point_2m   float32\n",
      "apparent_temperature        apparent_temperature   float32\n",
      "rain                                        rain   float32\n",
      "snowfall                                snowfall   float32\n",
      "pressure_msl                        pressure_msl   float32\n",
      "surface_pressure                surface_pressure   float32\n",
      "vapour_pressure_deficit  vapour_pressure_deficit   float32\n",
      "wind_speed_10m                    wind_speed_10m   float32\n",
      "wind_speed_100m                  wind_speed_100m   float32\n",
      "wind_direction_10m            wind_direction_10m   float32\n",
      "wind_direction_100m          wind_direction_100m   float32\n",
      "wind_gusts_10m                    wind_gusts_10m   float32\n"
     ]
    }
   ],
   "source": [
    "column_info = pd.DataFrame({\n",
    "    'Column Name': df.columns,\n",
    "    'Data Type': df.dtypes\n",
    "})\n",
    "\n",
    "print(column_info)"
   ]
  },
  {
   "cell_type": "code",
   "execution_count": 4,
   "id": "4d87de27",
   "metadata": {},
   "outputs": [
    {
     "ename": "AssertionError",
     "evalue": "",
     "output_type": "error",
     "traceback": [
      "\u001b[1;31m---------------------------------------------------------------------------\u001b[0m",
      "\u001b[1;31mAssertionError\u001b[0m                            Traceback (most recent call last)",
      "Cell \u001b[1;32mIn[4], line 8\u001b[0m\n\u001b[0;32m      6\u001b[0m         df[\u001b[38;5;124m'\u001b[39m\u001b[38;5;124mDELAY_OR_CANCEL\u001b[39m\u001b[38;5;124m'\u001b[39m] \u001b[38;5;241m=\u001b[39m df\u001b[38;5;241m.\u001b[39mapply(\u001b[38;5;241m1.0\u001b[39m, axis\u001b[38;5;241m=\u001b[39m\u001b[38;5;241m1\u001b[39m)\n\u001b[0;32m      7\u001b[0m     \u001b[38;5;28;01melse\u001b[39;00m:\n\u001b[1;32m----> 8\u001b[0m         df[\u001b[38;5;124m'\u001b[39m\u001b[38;5;124mDELAY_OR_CANCEL\u001b[39m\u001b[38;5;124m'\u001b[39m] \u001b[38;5;241m=\u001b[39m \u001b[43mdf\u001b[49m\u001b[38;5;241;43m.\u001b[39;49m\u001b[43mapply\u001b[49m\u001b[43m(\u001b[49m\u001b[38;5;241;43m0.0\u001b[39;49m\u001b[43m,\u001b[49m\u001b[43m \u001b[49m\u001b[43maxis\u001b[49m\u001b[38;5;241;43m=\u001b[39;49m\u001b[38;5;241;43m1\u001b[39;49m\u001b[43m)\u001b[49m\n\u001b[0;32m     10\u001b[0m \u001b[38;5;28mprint\u001b[39m(df)\n",
      "File \u001b[1;32m~\\anaconda3\\lib\\site-packages\\pandas\\core\\frame.py:9568\u001b[0m, in \u001b[0;36mDataFrame.apply\u001b[1;34m(self, func, axis, raw, result_type, args, **kwargs)\u001b[0m\n\u001b[0;32m   9557\u001b[0m \u001b[38;5;28;01mfrom\u001b[39;00m \u001b[38;5;21;01mpandas\u001b[39;00m\u001b[38;5;21;01m.\u001b[39;00m\u001b[38;5;21;01mcore\u001b[39;00m\u001b[38;5;21;01m.\u001b[39;00m\u001b[38;5;21;01mapply\u001b[39;00m \u001b[38;5;28;01mimport\u001b[39;00m frame_apply\n\u001b[0;32m   9559\u001b[0m op \u001b[38;5;241m=\u001b[39m frame_apply(\n\u001b[0;32m   9560\u001b[0m     \u001b[38;5;28mself\u001b[39m,\n\u001b[0;32m   9561\u001b[0m     func\u001b[38;5;241m=\u001b[39mfunc,\n\u001b[1;32m   (...)\u001b[0m\n\u001b[0;32m   9566\u001b[0m     kwargs\u001b[38;5;241m=\u001b[39mkwargs,\n\u001b[0;32m   9567\u001b[0m )\n\u001b[1;32m-> 9568\u001b[0m \u001b[38;5;28;01mreturn\u001b[39;00m \u001b[43mop\u001b[49m\u001b[38;5;241;43m.\u001b[39;49m\u001b[43mapply\u001b[49m\u001b[43m(\u001b[49m\u001b[43m)\u001b[49m\u001b[38;5;241m.\u001b[39m__finalize__(\u001b[38;5;28mself\u001b[39m, method\u001b[38;5;241m=\u001b[39m\u001b[38;5;124m\"\u001b[39m\u001b[38;5;124mapply\u001b[39m\u001b[38;5;124m\"\u001b[39m)\n",
      "File \u001b[1;32m~\\anaconda3\\lib\\site-packages\\pandas\\core\\apply.py:764\u001b[0m, in \u001b[0;36mFrameApply.apply\u001b[1;34m(self)\u001b[0m\n\u001b[0;32m    761\u001b[0m \u001b[38;5;28;01melif\u001b[39;00m \u001b[38;5;28mself\u001b[39m\u001b[38;5;241m.\u001b[39mraw:\n\u001b[0;32m    762\u001b[0m     \u001b[38;5;28;01mreturn\u001b[39;00m \u001b[38;5;28mself\u001b[39m\u001b[38;5;241m.\u001b[39mapply_raw()\n\u001b[1;32m--> 764\u001b[0m \u001b[38;5;28;01mreturn\u001b[39;00m \u001b[38;5;28;43mself\u001b[39;49m\u001b[38;5;241;43m.\u001b[39;49m\u001b[43mapply_standard\u001b[49m\u001b[43m(\u001b[49m\u001b[43m)\u001b[49m\n",
      "File \u001b[1;32m~\\anaconda3\\lib\\site-packages\\pandas\\core\\apply.py:891\u001b[0m, in \u001b[0;36mFrameApply.apply_standard\u001b[1;34m(self)\u001b[0m\n\u001b[0;32m    890\u001b[0m \u001b[38;5;28;01mdef\u001b[39;00m \u001b[38;5;21mapply_standard\u001b[39m(\u001b[38;5;28mself\u001b[39m):\n\u001b[1;32m--> 891\u001b[0m     results, res_index \u001b[38;5;241m=\u001b[39m \u001b[38;5;28;43mself\u001b[39;49m\u001b[38;5;241;43m.\u001b[39;49m\u001b[43mapply_series_generator\u001b[49m\u001b[43m(\u001b[49m\u001b[43m)\u001b[49m\n\u001b[0;32m    893\u001b[0m     \u001b[38;5;66;03m# wrap results\u001b[39;00m\n\u001b[0;32m    894\u001b[0m     \u001b[38;5;28;01mreturn\u001b[39;00m \u001b[38;5;28mself\u001b[39m\u001b[38;5;241m.\u001b[39mwrap_results(results, res_index)\n",
      "File \u001b[1;32m~\\anaconda3\\lib\\site-packages\\pandas\\core\\apply.py:897\u001b[0m, in \u001b[0;36mFrameApply.apply_series_generator\u001b[1;34m(self)\u001b[0m\n\u001b[0;32m    896\u001b[0m \u001b[38;5;28;01mdef\u001b[39;00m \u001b[38;5;21mapply_series_generator\u001b[39m(\u001b[38;5;28mself\u001b[39m) \u001b[38;5;241m-\u001b[39m\u001b[38;5;241m>\u001b[39m \u001b[38;5;28mtuple\u001b[39m[ResType, Index]:\n\u001b[1;32m--> 897\u001b[0m     \u001b[38;5;28;01massert\u001b[39;00m callable(\u001b[38;5;28mself\u001b[39m\u001b[38;5;241m.\u001b[39mf)\n\u001b[0;32m    899\u001b[0m     series_gen \u001b[38;5;241m=\u001b[39m \u001b[38;5;28mself\u001b[39m\u001b[38;5;241m.\u001b[39mseries_generator\n\u001b[0;32m    900\u001b[0m     res_index \u001b[38;5;241m=\u001b[39m \u001b[38;5;28mself\u001b[39m\u001b[38;5;241m.\u001b[39mresult_index\n",
      "\u001b[1;31mAssertionError\u001b[0m: "
     ]
    }
   ],
   "source": [
    "df = pd.read_csv('merged_data.csv')\n",
    "\n",
    "for idx, row in df.iterrows():\n",
    "    \n",
    "    if row['CANCELLED'] != 0.0 or row['DELAY_DUE_WEATHER'] != 0.0:\n",
    "        df['DELAY_OR_CANCEL'] = df.apply(1.0, axis=1)\n",
    "    else:\n",
    "        df['DELAY_OR_CANCEL'] = df.apply(0.0, axis=1)\n",
    "\n",
    "print(df)"
   ]
  },
  {
   "cell_type": "code",
   "execution_count": 15,
   "id": "6792d205",
   "metadata": {},
   "outputs": [
    {
     "name": "stdout",
     "output_type": "stream",
     "text": [
      "           FL_DATE                 AIRLINE                 AIRLINE_DOT  \\\n",
      "0       2023-03-06    Delta Air Lines Inc.    Delta Air Lines Inc.: DL   \n",
      "1       2023-06-11  American Airlines Inc.  American Airlines Inc.: AA   \n",
      "2       2023-02-12        Spirit Air Lines        Spirit Air Lines: NK   \n",
      "3       2023-04-15        Republic Airline        Republic Airline: YX   \n",
      "4       2023-07-23   United Air Lines Inc.   United Air Lines Inc.: UA   \n",
      "...            ...                     ...                         ...   \n",
      "502482   2/10/2023         JetBlue Airways         JetBlue Airways: B6   \n",
      "502483    8/5/2023    Delta Air Lines Inc.    Delta Air Lines Inc.: DL   \n",
      "502484   7/20/2023         JetBlue Airways         JetBlue Airways: B6   \n",
      "502485    6/3/2023   SkyWest Airlines Inc.   SkyWest Airlines Inc.: OO   \n",
      "502486    6/8/2023   United Air Lines Inc.   United Air Lines Inc.: UA   \n",
      "\n",
      "       AIRLINE_CODE  DOT_CODE  FL_NUMBER ORIGIN        ORIGIN_CITY DEST  \\\n",
      "0                DL     19790       2295    MSP    Minneapolis, MN  SFO   \n",
      "1                AA     19805       2134    DCA     Washington, DC  BOS   \n",
      "2                NK     20416        590    IAH        Houston, TX  LAX   \n",
      "3                YX     20452       3615    MSP    Minneapolis, MN  EWR   \n",
      "4                UA     19977       1182    AUS         Austin, TX  IAH   \n",
      "...             ...       ...        ...    ...                ...  ...   \n",
      "502482           B6     20409        416    SFO  San Francisco, CA  JFK   \n",
      "502483           DL     19790       1177    TUS         Tucson, AZ  ATL   \n",
      "502484           B6     20409       1319    BOS         Boston, MA  MIA   \n",
      "502485           OO     20304       3512    BOS         Boston, MA  MKE   \n",
      "502486           UA     19977       1328    DEN         Denver, CO  IND   \n",
      "\n",
      "                DEST_CITY  ...  snowfall  pressure_msl  surface_pressure  \\\n",
      "0       San Francisco, CA  ...       0.0   1019.000000        987.793274   \n",
      "1              Boston, MA  ...       0.0   1010.700012       1010.344238   \n",
      "2         Los Angeles, CA  ...       0.0   1025.699951       1022.312988   \n",
      "3              Newark, NJ  ...       0.0   1008.000000        977.917480   \n",
      "4             Houston, TX  ...       0.0   1012.400024        995.350586   \n",
      "...                   ...  ...       ...           ...               ...   \n",
      "502482       New York, NY  ...       0.0   1023.900024       1023.775513   \n",
      "502483        Atlanta, GA  ...       0.0   1008.099976        924.402649   \n",
      "502484          Miami, FL  ...       0.0   1016.299988       1016.299988   \n",
      "502485      Milwaukee, WI  ...       0.0   1015.200012       1015.200012   \n",
      "502486   Indianapolis, IN  ...       0.0   1012.700012        834.925110   \n",
      "\n",
      "        vapour_pressure_deficit  wind_speed_10m  wind_speed_100m  \\\n",
      "0                      0.092909       13.896187        22.884789   \n",
      "1                      0.580535        6.924738        18.472595   \n",
      "2                      0.132944       10.308830        22.473343   \n",
      "3                      0.046369        8.766573        15.716793   \n",
      "4                      1.686529        3.415260         5.804825   \n",
      "...                         ...             ...              ...   \n",
      "502482                 0.205603        8.891344        18.723461   \n",
      "502483                 4.980415       21.986542        34.949680   \n",
      "502484                 1.177537        4.843305         6.130579   \n",
      "502485                 0.152833       24.184391        36.656414   \n",
      "502486                 0.323061       10.587918        17.581125   \n",
      "\n",
      "        wind_direction_10m  wind_direction_100m  wind_gusts_10m  \\\n",
      "0                16.557161            19.290138       29.879999   \n",
      "1               207.897171           213.070679       14.400000   \n",
      "2               294.775116           305.217682       16.559999   \n",
      "3               340.820892           339.904663       27.359999   \n",
      "4               288.435028            29.744795        6.480000   \n",
      "...                    ...                  ...             ...   \n",
      "502482          291.370697           307.971649       17.280001   \n",
      "502483          267.184509           267.638672       30.239998   \n",
      "502484           41.987129            40.236294       15.119999   \n",
      "502485           44.396984            44.999897       41.760002   \n",
      "502486          215.311295           227.489594       16.559999   \n",
      "\n",
      "        DELAY_OR_CANCEL  \n",
      "0                   0.0  \n",
      "1                   0.0  \n",
      "2                   0.0  \n",
      "3                   0.0  \n",
      "4                   0.0  \n",
      "...                 ...  \n",
      "502482              0.0  \n",
      "502483              0.0  \n",
      "502484              0.0  \n",
      "502485              0.0  \n",
      "502486              0.0  \n",
      "\n",
      "[502487 rows x 31 columns]\n"
     ]
    }
   ],
   "source": [
    "import pandas as pd\n",
    "\n",
    "df['DELAY_DUE_WEATHER'] = df['DELAY_DUE_WEATHER'].fillna(0)\n",
    "\n",
    "df['DELAY_OR_CANCEL'] = 0.0\n",
    "\n",
    "for index, row in df.iterrows():\n",
    "    if row['CANCELLED'] != 0.0 or row['DELAY_DUE_WEATHER'] >= 15.0:\n",
    "        df.at[index, 'DELAY_OR_CANCEL'] = 1.0\n",
    "\n",
    "print(df)"
   ]
  },
  {
   "cell_type": "code",
   "execution_count": 16,
   "id": "d945c614",
   "metadata": {},
   "outputs": [
    {
     "name": "stdout",
     "output_type": "stream",
     "text": [
      "Number of cells with value 1 in 'your_column': 52754\n"
     ]
    }
   ],
   "source": [
    "count_ones = df['DELAY_OR_CANCEL'].value_counts().get(1, 0)\n",
    "\n",
    "print(f\"Number of cells with value 1 in 'your_column': {count_ones}\")"
   ]
  },
  {
   "cell_type": "code",
   "execution_count": 17,
   "id": "2b9e9326",
   "metadata": {},
   "outputs": [],
   "source": [
    "df.to_csv(\"testing_data.csv\", index=False)"
   ]
  },
  {
   "cell_type": "code",
   "execution_count": null,
   "id": "e2a99f58",
   "metadata": {},
   "outputs": [],
   "source": []
  }
 ],
 "metadata": {
  "kernelspec": {
   "display_name": "Python 3 (ipykernel)",
   "language": "python",
   "name": "python3"
  },
  "language_info": {
   "codemirror_mode": {
    "name": "ipython",
    "version": 3
   },
   "file_extension": ".py",
   "mimetype": "text/x-python",
   "name": "python",
   "nbconvert_exporter": "python",
   "pygments_lexer": "ipython3",
   "version": "3.10.9"
  }
 },
 "nbformat": 4,
 "nbformat_minor": 5
}
